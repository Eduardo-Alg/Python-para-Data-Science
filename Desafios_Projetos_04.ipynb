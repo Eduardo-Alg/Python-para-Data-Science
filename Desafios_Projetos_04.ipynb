{
  "nbformat": 4,
  "nbformat_minor": 0,
  "metadata": {
    "colab": {
      "provenance": [],
      "authorship_tag": "ABX9TyPUwozshcGE0Y3DjQKMuiU/",
      "include_colab_link": true
    },
    "kernelspec": {
      "name": "python3",
      "display_name": "Python 3"
    },
    "language_info": {
      "name": "python"
    }
  },
  "cells": [
    {
      "cell_type": "markdown",
      "metadata": {
        "id": "view-in-github",
        "colab_type": "text"
      },
      "source": [
        "<a href=\"https://colab.research.google.com/github/Eduardo-Alg/Python-para-Data-Science/blob/main/Desafios_Projetos_04.ipynb\" target=\"_parent\"><img src=\"https://colab.research.google.com/assets/colab-badge.svg\" alt=\"Open In Colab\"/></a>"
      ]
    },
    {
      "cell_type": "code",
      "execution_count": null,
      "metadata": {
        "colab": {
          "base_uri": "https://localhost:8080/"
        },
        "id": "xh6yVUHetYcK",
        "outputId": "847d4f7d-6ca1-4337-eb2e-dfe01bcdc741"
      },
      "outputs": [
        {
          "output_type": "stream",
          "name": "stdout",
          "text": [
            "Digite outro valor: 5\n",
            "Digite outro valor: 0\n",
            "<class 'ZeroDivisionError'> Erro: float division by zero\n"
          ]
        }
      ],
      "source": [
        "# 1. Faça um programa que solicite à pessoa usuária digitar dois números float e calcular a divisão entre esses números.\n",
        "# O código deve conter um tratamento de erro, indicando o tipo de erro que foi gerado caso a divisão não seja possível de realizar.\n",
        "\n",
        "# Teste o programa com o segundo valor numérico do input igual a 0.\n",
        "# Também teste utilizando caracteres textuais no input para checar os tipos de erro que ocorrem.\n",
        "\n",
        "try:\n",
        "  valor1 = float(input(\"Digite outro valor: \"))\n",
        "  valor2 = float(input(\"Digite outro valor: \"))\n",
        "  divisao = valor1 / valor2\n",
        "except Exception as e:\n",
        "  print(type(e),f'Erro: {e}')\n"
      ]
    },
    {
      "cell_type": "code",
      "source": [
        "# 2. Faça um programa que solicite à pessoa usuária digitar um texto que será uma chave a ser pesquisada no seguinte dicionário:\n",
        "idades = {'Júlia': 16, 'Carol': 23, 'Alberto': 19, 'Roberta': 17}\n",
        "# armazenando o resultado do valor em uma variável. O código deve conter um tratamento de erro KeyError,\n",
        "# imprimindo a informação 'Nome não encontrado', caso ocorra o erro; e imprimir o valor caso não ocorra nenhum.\n",
        "\n",
        "# Teste o programa com um nome presente em uma das chaves do dicionário e com um que não esteja no dicionário para verificar a mensagem de erro.\n",
        "\n",
        "try:\n",
        "  nome = input('Digite um nome: ')\n",
        "  idade = idades[nome]\n",
        "except KeyError:\n",
        "  print('Nome não encontrado')\n",
        "else:\n",
        "  print(idade)"
      ],
      "metadata": {
        "colab": {
          "base_uri": "https://localhost:8080/"
        },
        "id": "dM18MkROvSRJ",
        "outputId": "7e72ff5b-b8cb-4a39-e0a7-a81e6a3dfe9d"
      },
      "execution_count": null,
      "outputs": [
        {
          "output_type": "stream",
          "name": "stdout",
          "text": [
            "Digite um nome: Eduardo\n",
            "Nome não encontrado\n"
          ]
        }
      ]
    },
    {
      "cell_type": "code",
      "source": [
        "# 3. Crie uma função que recebe uma lista como parâmetro e converta todos os valores da lista para float.\n",
        "# A função deve conter um tratamento de erro indicando o tipo de erro gerado e retornar a lista caso não tenha ocorrido nenhum erro.\n",
        "# Por fim, deve ter a cláusula finally para imprimir o texto: 'Fim da execução da função'.\n",
        "\n",
        "def conversor(lista):\n",
        "  try:\n",
        "    convertidos = [float(elemento) for elemento in lista]\n",
        "  except Exception as e:\n",
        "    print(type(e),f'Erro: {e}')\n",
        "  else:\n",
        "    print(convertidos)\n",
        "  finally:\n",
        "    print('Fim da execução da função')\n",
        "\n",
        "numeros= [1,2,3,4,5,6,7,8,9]\n",
        "conversor(numeros)\n",
        "\n"
      ],
      "metadata": {
        "colab": {
          "base_uri": "https://localhost:8080/"
        },
        "id": "h_9ncQ3P3u-0",
        "outputId": "b6e6a4fe-533e-449b-a000-656006675341"
      },
      "execution_count": null,
      "outputs": [
        {
          "output_type": "stream",
          "name": "stdout",
          "text": [
            "[1.0, 2.0, 3.0, 4.0, 5.0, 6.0, 7.0, 8.0, 9.0]\n",
            "Fim da execução da função\n"
          ]
        }
      ]
    },
    {
      "cell_type": "code",
      "source": [
        "# 4. Crie uma função que recebe duas listas como parâmetros e agrupe os elementos um a um das listas,\n",
        "# formando uma lista de tuplas de 3 elementos, no qual o primeiro e segundo elemento da tupla são os valores na\n",
        "# posição i das listas e o terceiro elemento é a soma dos valores na posição i das listas.\n",
        "\n",
        "# A função deve conter um tratamento de erro indicando o tipo de erro gerado e retornar como resultado a lista de tuplas.\n",
        "# Caso as listas enviadas como parâmetro tenham tamanhos diferentes, a função deve retornar um IndexError com a frase:\n",
        "# 'A quantidade de elementos em cada lista é diferente.' Dados para testar a função:\n",
        "\n",
        "def tratamento(lista1,lista2):\n",
        "  try:\n",
        "    if len(lista1) == len(lista2):\n",
        "      dados = [(lista1[i],lista2[i],lista1[i]+lista2[i]) for i in range(len(lista1))]\n",
        "    else:\n",
        "      raise IndexError ('A quantidade de elementos em cada lista é diferente.')\n",
        "  except Exception as e:\n",
        "      print(type(e),f'Erro: ')\n",
        "  else:\n",
        "    return dados\n",
        "\n",
        "# Valores sem erro:\n",
        "lista1 = [4,6,7,9,10]\n",
        "lista2 = [-4,6,8,7,9]\n",
        "# # Listas com tamanhos diferentes:\n",
        "# lista1 = [4,6,7,9,10,4]\n",
        "# lista2 = [-4,6,8,7,9]\n",
        "# # Listas com valores incoerentes:\n",
        "# lista1 = [4,6,7,9,'A']\n",
        "# lista2 = [-4,'E',8,7,9]\n",
        "\n",
        "teste = tratamento(lista1,lista2)\n",
        "teste\n"
      ],
      "metadata": {
        "colab": {
          "base_uri": "https://localhost:8080/"
        },
        "id": "DIbc8fsa6gN_",
        "outputId": "92af028f-45b0-49f7-be6d-51c64e3abad4"
      },
      "execution_count": null,
      "outputs": [
        {
          "output_type": "execute_result",
          "data": {
            "text/plain": [
              "[(4, -4, 0), (6, 6, 12), (7, 8, 15), (9, 7, 16), (10, 9, 19)]"
            ]
          },
          "metadata": {},
          "execution_count": 83
        }
      ]
    },
    {
      "cell_type": "code",
      "source": [
        "# 5. Como desafio, você recebeu a tarefa de desenvolver um código que contabiliza as pontuações de estudantes de uma\n",
        "# instituição de ensino de acordo com suas respostas num teste.\n",
        "# Este código deve ser testado para um exemplo de 3 estudantes com uma lista de listas em que cada lista possui as respostas de\n",
        "# 5 questões objetivas de cada estudante. Cada questão vale um ponto e as alternativas possíveis são A, B, C ou D.\n",
        "\n",
        "# Caso alguma alternativa em um dos testes não esteja entre as alternativas possíveis, você deve lançar um ValueError com a mensagem \"\n",
        "# A alternativa [alternativa] não é uma opção de alternativa válida\". O cálculo das 3 notas só será realizado mediante as entradas com as\n",
        "# alternativas A, B, C ou D em todos os testes. Se não for lançada a exceção, será exibida uma lista com as notas em cada teste.\n",
        "\n",
        "# Os dados para o teste do código são:\n",
        "\n",
        "# Gabarito da prova:\n",
        "gabarito = ['D', 'A', 'B', 'C', 'A']\n",
        "\n",
        "# Abaixo temos 2 listas de listas que você pode usar como teste\n",
        "# Notas sem exceção:\n",
        "testes_sem_ex = [['D', 'A', 'B', 'C', 'A'], ['C', 'A', 'A', 'C', 'A'], ['D', 'B', 'A', 'C', 'A']]\n",
        "# Notas com exceção:\n",
        "testes_com_ex = [['D', 'A', 'B', 'C', 'A'], ['C', 'A', 'A', 'E', 'A'], ['D', 'B', 'A', 'C', 'A']]\n",
        "# Dica: Para verificar se uma entrada da lista não está entre as alternativas possíveis, use a estrutura lista[i] not in ['A','B','C','D'].\n",
        "# Por exemplo, 1 not in [2,3,4]... Saída: True.\n",
        "\n",
        "\n",
        "def respostas(lista):\n",
        "  try:\n",
        "      notas = []\n",
        "      for alternativas in lista:\n",
        "        for alternativa in alternativas:\n",
        "          if alternativa not in ['A','B','C','D']:\n",
        "            raise ValueError (f'A alternativa {alternativa} não é uma opção de alternativa válida')\n",
        "      for verifica in lista:\n",
        "        verificacao = len([(True) for i in range(len(alternativas)) if verifica[i] in gabarito[i]])\n",
        "        notas.append(verificacao)\n",
        "\n",
        "  except Exception as e:\n",
        "    print(type(e),f'Erro {e}')\n",
        "\n",
        "  else:\n",
        "    print(f'Notas:\\n 1º Candidato nota {notas[0]} \\n 2º Candidato nota {notas[1]}\\n 3º Candidato nota {notas[2]}')\n",
        "\n",
        "\n",
        "respostas(testes_sem_ex)\n",
        "\n",
        "\n"
      ],
      "metadata": {
        "id": "7StAJWSCGSEJ",
        "colab": {
          "base_uri": "https://localhost:8080/"
        },
        "outputId": "2db29e6a-2543-4078-957a-d84b9dfb1eb5"
      },
      "execution_count": null,
      "outputs": [
        {
          "output_type": "stream",
          "name": "stdout",
          "text": [
            "Notas:\n",
            " 1º Candidato nota 5 \n",
            " 2º Candidato nota 3\n",
            " 3º Candidato nota 3\n"
          ]
        }
      ]
    },
    {
      "cell_type": "code",
      "source": [
        "# 6. Você está trabalhando com processamento de linguagem natural (NLP) e, dessa vez, sua líder requisitou que você criasse um\n",
        "# trecho de código que recebe uma lista com as palavras separadas de uma frase gerada pelo ChatGPT.\n",
        "\n",
        "# Você precisa criar uma função que avalia cada palavra desse texto e verificar se o tratamento para retirar os símbolos de pontuação\n",
        "# (',' '.', '!' e '?') foi realizado. Caso contrário, será lançada uma exceção do tipo ValueError apontando o 1º caso em que foi\n",
        "# detectado o uso de uma pontuação por meio da frase \"O texto apresenta pontuações na palavra \"[palavra]\".\".\n",
        "# Essa demanda é voltada para a análise do padrão de frases geradas pela inteligência artificial.\n",
        "\n",
        "# Dica: Para verificar se uma ou mais das pontuações estão presentes em cada palavra, utilize a palavra chave or na condição if.\n",
        "# Por exemplo, 'a' in 'alura' or 'b' in 'alura'… Saída: True\n",
        "\n",
        "# Os dados para o teste do código são:\n",
        "# Lista tratada:\n",
        "def verificar(lista:list):\n",
        "  try:\n",
        "    for listar in lista:\n",
        "      for caracters in listar:\n",
        "        if caracters not in [',','.','!','?']:\n",
        "          raise ValueError (f'O texto apresenta pontuações na palavra {caracters}')\n",
        "\n",
        "  except Exception as e:\n",
        "    print(type(e))\n",
        "\n",
        "\n",
        "\n",
        "\n",
        "lista_tratada = ['Python', 'é', 'uma', 'linguagem', 'de', 'programação', 'poderosa', 'versátil',\n",
        "                  'e', 'fácil', 'de', 'aprender', 'utilizada', 'em', 'diversos', 'campos', 'desde',\n",
        "                  'análise', 'de', 'dados', 'até', 'inteligência', 'artificial']\n",
        "\n",
        "# Lista não tratada:\n",
        "\n",
        "lista_nao_tratada = ['Python', 'é', 'uma', 'linguagem', 'de', 'programação', 'poderosa,', 'versátil',\n",
        "                  'e', 'fác?il,', 'de', 'aprender', 'utilizada', 'em', 'diversos', 'campos,', 'desde',\n",
        "                  'análise?', 'de', 'dados', 'até', 'inteligência', 'artificial!']\n",
        "\n",
        "verificar(lista_nao_tratada)"
      ],
      "metadata": {
        "id": "AO8WtEyEB0Zh",
        "colab": {
          "base_uri": "https://localhost:8080/"
        },
        "outputId": "b0024861-4dc3-4b13-e6d4-5d063ac88a1a"
      },
      "execution_count": null,
      "outputs": [
        {
          "output_type": "stream",
          "name": "stdout",
          "text": [
            "<class 'ValueError'>\n"
          ]
        }
      ]
    },
    {
      "cell_type": "code",
      "source": [],
      "metadata": {
        "id": "WsrFUhw3PHuO"
      },
      "execution_count": null,
      "outputs": []
    }
  ]
}