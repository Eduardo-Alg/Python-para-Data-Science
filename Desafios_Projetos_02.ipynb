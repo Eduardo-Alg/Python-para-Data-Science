{
  "nbformat": 4,
  "nbformat_minor": 0,
  "metadata": {
    "colab": {
      "provenance": [],
      "authorship_tag": "ABX9TyP1qx//+HJvYPbRomezhRMf",
      "include_colab_link": true
    },
    "kernelspec": {
      "name": "python3",
      "display_name": "Python 3"
    },
    "language_info": {
      "name": "python"
    }
  },
  "cells": [
    {
      "cell_type": "markdown",
      "metadata": {
        "id": "view-in-github",
        "colab_type": "text"
      },
      "source": [
        "<a href=\"https://colab.research.google.com/github/Eduardo-Alg/Python-para-Data-Science/blob/main/Desafios_Projetos_02.ipynb\" target=\"_parent\"><img src=\"https://colab.research.google.com/assets/colab-badge.svg\" alt=\"Open In Colab\"/></a>"
      ]
    },
    {
      "cell_type": "code",
      "execution_count": null,
      "metadata": {
        "id": "N8bpy99lhDiN"
      },
      "outputs": [],
      "source": [
        "lista = [16, 14, 63, 65, 17, 99, 70, 11, 20, 48, 79, 32, 17, 89, 12, 25, 66]\n",
        "tamanho = len(lista)\n",
        "maior = max(lista)\n",
        "menor = min(lista)\n",
        "soma = sum(lista)"
      ]
    },
    {
      "cell_type": "code",
      "source": [
        "print(f\"A lista possui {tamanho} números em que o maior número é {maior} e o menor número é {menor}. A soma dos valores presentes nela é igual a {soma}\")\n"
      ],
      "metadata": {
        "colab": {
          "base_uri": "https://localhost:8080/"
        },
        "id": "oHBCPU4ehqZe",
        "outputId": "11be3d0e-9a81-46ec-a0e3-b1c6eca2603a"
      },
      "execution_count": null,
      "outputs": [
        {
          "output_type": "stream",
          "name": "stdout",
          "text": [
            "A lista possui 17 números em que o maior número é 99 e o menor número é 11. A soma dos valores presentes nela é igual a 743\n"
          ]
        }
      ]
    },
    {
      "cell_type": "code",
      "source": [
        "valor = int(input(\"Digite um número inteiro: \"))\n",
        "\n",
        "\n",
        "def tabuada(numero: int):\n",
        "  print(f'A tabuada do número {valor} é: ')\n",
        "  for x in range(11):\n",
        "    print(f'{numero} x {x} = {numero * x}')\n",
        "\n",
        "tabuada(valor)\n",
        "\n"
      ],
      "metadata": {
        "id": "SUApfpfoi8Z_",
        "colab": {
          "base_uri": "https://localhost:8080/"
        },
        "outputId": "7c0e2517-6f9a-4231-e4ee-7b51109b1c3a"
      },
      "execution_count": 24,
      "outputs": [
        {
          "output_type": "stream",
          "name": "stdout",
          "text": [
            "Digite um número inteiro: 555\n",
            "A tabuada do número 555 é: \n",
            "555 x 0 = 0\n",
            "555 x 1 = 555\n",
            "555 x 2 = 1110\n",
            "555 x 3 = 1665\n",
            "555 x 4 = 2220\n",
            "555 x 5 = 2775\n",
            "555 x 6 = 3330\n",
            "555 x 7 = 3885\n",
            "555 x 8 = 4440\n",
            "555 x 9 = 4995\n",
            "555 x 10 = 5550\n"
          ]
        }
      ]
    },
    {
      "cell_type": "code",
      "source": [],
      "metadata": {
        "id": "_znl5N3DEDMl"
      },
      "execution_count": 5,
      "outputs": []
    }
  ]
}