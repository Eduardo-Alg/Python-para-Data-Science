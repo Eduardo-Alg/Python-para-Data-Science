{
  "nbformat": 4,
  "nbformat_minor": 0,
  "metadata": {
    "colab": {
      "provenance": [],
      "authorship_tag": "ABX9TyM+e5NB8L3HFR5iMLAed9Lc",
      "include_colab_link": true
    },
    "kernelspec": {
      "name": "python3",
      "display_name": "Python 3"
    },
    "language_info": {
      "name": "python"
    }
  },
  "cells": [
    {
      "cell_type": "markdown",
      "metadata": {
        "id": "view-in-github",
        "colab_type": "text"
      },
      "source": [
        "<a href=\"https://colab.research.google.com/github/Eduardo-Alg/Python-para-Data-Science/blob/main/Desafios_Projetos_02.ipynb\" target=\"_parent\"><img src=\"https://colab.research.google.com/assets/colab-badge.svg\" alt=\"Open In Colab\"/></a>"
      ]
    },
    {
      "cell_type": "code",
      "execution_count": null,
      "metadata": {
        "id": "N8bpy99lhDiN",
        "colab": {
          "base_uri": "https://localhost:8080/"
        },
        "outputId": "c41d7369-05ab-4b5c-e341-eeeec3610de7"
      },
      "outputs": [
        {
          "output_type": "stream",
          "name": "stdout",
          "text": [
            "A lista possui 17 números em que o maior número é 99 e o menor número é 11. A soma dos valores presentes nela é igual a 743\n"
          ]
        }
      ],
      "source": [
        "# 1. Escreva um código que lê a lista abaixo e faça:\n",
        "\n",
        "lista = [16, 14, 63, 65, 17, 99, 70, 11, 20, 48, 79, 32, 17, 89, 12, 25, 66]\n",
        "\n",
        "# A leitura do tamanho da lista\n",
        "# A leitura do maior e menor valor\n",
        "# A soma dos valores da lista\n",
        "# Ao final exiba uma mensagem dizendo:\n",
        "\n",
        "tamanho = len(lista)\n",
        "maior = max(lista)\n",
        "menor = min(lista)\n",
        "soma = sum(lista)\n",
        "\n",
        "print(f\"A lista possui {tamanho} números em que o maior número é {maior} e o menor número é {menor}. A soma dos valores presentes nela é igual a {soma}\")\n"
      ]
    },
    {
      "cell_type": "code",
      "source": [
        "# 2. Escreva uma função que gere a tabuada de um número inteiro de 1 a 10, de acordo com a escolha da pessoa usuária.\n",
        "# Como exemplo, para o número 7, a tabuada deve ser mostrada no seguinte formato:\n",
        "# Tabuada do 7:\n",
        "# 7 x 0 = 0\n",
        "# 7 x 1 = 7\n",
        "# [...]\n",
        "# 7 x 10 = 70\n",
        "\n",
        "valor = int(input(\"Digite um número inteiro: \"))\n",
        "\n",
        "\n",
        "def tabuada(numero: int):\n",
        "  print(f'A tabuada do número {valor} é: ')\n",
        "  for x in range(11):\n",
        "    print(f'{numero} x {x} = {numero * x}')\n",
        "\n",
        "tabuada(valor)\n",
        "\n"
      ],
      "metadata": {
        "id": "SUApfpfoi8Z_",
        "colab": {
          "base_uri": "https://localhost:8080/"
        },
        "outputId": "1e56ba56-18dc-4840-e161-c2aba8a76040"
      },
      "execution_count": null,
      "outputs": [
        {
          "output_type": "stream",
          "name": "stdout",
          "text": [
            "Digite um número inteiro: 7\n",
            "A tabuada do número 7 é: \n",
            "7 x 0 = 0\n",
            "7 x 1 = 7\n",
            "7 x 2 = 14\n",
            "7 x 3 = 21\n",
            "7 x 4 = 28\n",
            "7 x 5 = 35\n",
            "7 x 6 = 42\n",
            "7 x 7 = 49\n",
            "7 x 8 = 56\n",
            "7 x 9 = 63\n",
            "7 x 10 = 70\n"
          ]
        }
      ]
    },
    {
      "cell_type": "code",
      "source": [
        "# 3. Crie a função que leia a lista abaixo e retorne uma nova lista com os múltiplos de 3:\n",
        "# Utilize o return na função e salve a nova lista na variável mult_3.\n",
        "\n",
        "lista = [97, 80, 94, 88, 80, 1, 16, 53, 62, 32, 24, 99]\n",
        "mult_3 = []\n",
        "\n",
        "def multiplos(valores: list):\n",
        "  for valor in valores:\n",
        "   if valor % 3 == 0:\n",
        "     mult_3.append(valor)\n",
        "  return mult_3\n",
        "\n",
        "multiplos(lista)\n",
        "print(f\"Os valores multiplos de 3 da lista: {lista} são {mult_3}\")"
      ],
      "metadata": {
        "colab": {
          "base_uri": "https://localhost:8080/"
        },
        "id": "_znl5N3DEDMl",
        "outputId": "9ba985d9-6b02-4f23-cc0b-296a50300f0a"
      },
      "execution_count": null,
      "outputs": [
        {
          "output_type": "stream",
          "name": "stdout",
          "text": [
            "Os valores multiplos de 3 da lista: [97, 80, 94, 88, 80, 1, 16, 53, 62, 32, 24, 99] são [24, 99]\n"
          ]
        }
      ]
    },
    {
      "cell_type": "code",
      "source": [
        "# 4. Crie uma lista dos quadrados dos números da seguinte lista [1, 2, 3, 4, 5, 6, 7, 8, 9, 10].\n",
        "# Lembre-se de utilizar as funções lambda e map() para calcular o quadrado de cada elemento da lista.\n",
        "from math import sqrt , pow\n",
        "lista = [1, 2, 3, 4, 5, 6, 7, 8, 9, 10]\n",
        "\n",
        "\n",
        "quadrados = list(map(lambda x: pow(x,2) , lista))\n",
        "quadrados"
      ],
      "metadata": {
        "colab": {
          "base_uri": "https://localhost:8080/"
        },
        "id": "oHBCPU4ehqZe",
        "outputId": "6b81dad5-3fcf-4d0a-cdbb-73ba774ab50b"
      },
      "execution_count": null,
      "outputs": [
        {
          "output_type": "execute_result",
          "data": {
            "text/plain": [
              "[1.0, 4.0, 9.0, 16.0, 25.0, 36.0, 49.0, 64.0, 81.0, 100.0]"
            ]
          },
          "metadata": {},
          "execution_count": 28
        }
      ]
    },
    {
      "cell_type": "code",
      "source": [
        "# 5. Você foi contratado(a) como cientista de dados de uma associação de skate.\n",
        "# Para analisar as notas recebidas de skatistas em algumas competições ao longo do ano, você precisa criar um código que calcula a pontuação dos(as) atletas.\n",
        "# Para isso, o seu código deve receber 5 notas digitadas pelas pessoas juradas.\n",
        "\n",
        "# Para calcular a pontuação de um(a) skatista, você precisa eliminar a maior e a menor pontuação dentre as 5 notas e tirar a média das 3 notas que sobraram.\n",
        "# Retorne a média para apresentar o texto:\n",
        "\n",
        "# \"Nota da manobra: [media]\"\n",
        "notas = []\n",
        "for nota in range(1,6):\n",
        "  notas.append(float(input(f\"Digite a nota {nota} do(a) atleta:\")))\n",
        "\n",
        "def media(lista: list):\n",
        "  media_lista = lista\n",
        "  media_lista.remove(min(media_lista))\n",
        "  media_lista.remove(max(media_lista))\n",
        "  return sum(media_lista) / len(media_lista)\n",
        "\n",
        "\n",
        "print(f\"Nota da monobra: {round(media(notas),1)}\")\n",
        "\n",
        "\n",
        "\n",
        "\n"
      ],
      "metadata": {
        "id": "pUkkcFRNNQgj",
        "colab": {
          "base_uri": "https://localhost:8080/"
        },
        "outputId": "d1fd0417-9d74-4134-ca86-6404e58b76ad"
      },
      "execution_count": null,
      "outputs": [
        {
          "output_type": "stream",
          "name": "stdout",
          "text": [
            "Digite a nota 1 do(a) atleta:5.5\n",
            "Digite a nota 2 do(a) atleta:8\n",
            "Digite a nota 3 do(a) atleta:6\n",
            "Digite a nota 4 do(a) atleta:7.2\n",
            "Digite a nota 5 do(a) atleta:10\n",
            "Nota da monobra: 7.1\n"
          ]
        }
      ]
    },
    {
      "cell_type": "code",
      "source": [
        "# 6. Para atender a uma demanda de uma instituição de ensino para a análise do desempenho de seus(suas) estudantes, você precisa criar uma função que receba uma lista de 4 notas e retorne:\n",
        "\n",
        "# maior nota\n",
        "# menor nota\n",
        "# média\n",
        "# situação (Aprovado(a) ou Reprovado(a))\n",
        "# Para testar o comportamento da função, os dados podem ser exibidos em um texto:\n",
        "\n",
        "# \"O(a) estudante obteve uma média de [media], com a sua maior nota de [maior] pontos e a menor nota de [menor] pontos e foi [situacao]\"\n",
        "\n",
        "notas = []\n",
        "\n",
        "for nota in range(1,5):\n",
        "  notas.append(float(input(f\"Digite a nota {nota}: \")))\n",
        "\n",
        "def desempenho(lista: list) -> float:\n",
        "    maior_nota = max(lista)\n",
        "    menor_nota = min(lista)\n",
        "    media = sum(lista) / len(lista)\n",
        "    situacao = \"Aprovado(a)\" if media >= 5 else \"Reprovado(a)\"\n",
        "    print(f\"O(a) estudante obteve uma média de {media}, com a sua maior nota de {maior_nota} pontos e a menor nota de {menor_nota} pontos e foi {situacao}\")\n",
        "\n",
        "desempenho(notas)\n"
      ],
      "metadata": {
        "colab": {
          "base_uri": "https://localhost:8080/"
        },
        "id": "iFxLvH1cJWoh",
        "outputId": "8e8db814-9936-46c4-816c-a15783ae8a72"
      },
      "execution_count": null,
      "outputs": [
        {
          "output_type": "stream",
          "name": "stdout",
          "text": [
            "Digite a nota 1: 5\n",
            "Digite a nota 2: 6\n",
            "Digite a nota 3: 5\n",
            "Digite a nota 4: 5\n",
            "O(a) estudante obteve uma média de 5.25, com a sua maior nota de 6.0 pontos e a menor nota de 5.0 pontos e foi Aprovado(a)\n"
          ]
        }
      ]
    },
    {
      "cell_type": "code",
      "source": [
        "# 7. Você recebeu uma demanda para tratar 2 listas com os nomes e sobrenomes de cada estudante concatenando-as para apresentar seus nomes completos na forma Nome Sobrenome.\n",
        "#  As listas são:\n",
        "# O texto exibido ao fim deve ser parecido com:\n",
        "# \"Nome completo: Ana Silva\"\n",
        "# Dica: utilize a função map para mapear os nomes e sobrenomes e as funções de string para tratar o texto.\n",
        "\n",
        "nomes = [\"joão\", \"MaRia\", \"JOSÉ\"]\n",
        "sobrenomes = [\"SILVA\", \"souza\", \"Tavares\"]\n",
        "\n",
        "\n",
        "nome_completo = map(lambda nome,sobrenome: f'{nome.title()} {sobrenome.title()}', nomes , sobrenomes)\n",
        "\n",
        "for n in nome_completo:\n",
        "  print(f\"Nome completo: {n}\")\n",
        "\n"
      ],
      "metadata": {
        "colab": {
          "base_uri": "https://localhost:8080/"
        },
        "id": "tkDRkjrQaVgc",
        "outputId": "45086635-6efb-4996-ce63-11afc56a768e"
      },
      "execution_count": null,
      "outputs": [
        {
          "output_type": "stream",
          "name": "stdout",
          "text": [
            "Nome completo: João Silva\n",
            "Nome completo: Maria Souza\n",
            "Nome completo: José Tavares\n"
          ]
        }
      ]
    },
    {
      "cell_type": "code",
      "source": [
        "# 8. Como cientista de dados em um time de futebol, você precisa implementar novas formas de coleta de dados sobre o desempenho de jogadores e do time\n",
        "# como um todo. Sua primeira ação é criar uma forma de calcular a pontuação do time no campeonato nacional a partir dos dados de gols marcados\n",
        "# e sofridos em cada jogo.\n",
        "\n",
        "# Escreva uma função chamada calcula_pontos que recebe como parâmetros duas listas de números inteiros, representando os gols marcados e\n",
        "# sofridos pelo time em cada partida do campeonato. A função deve retornar a pontuação do time e o aproveitamento em percentual,\n",
        "# levando em consideração que a vitória vale 3 pontos, o empate vale 1 ponto e a derrota 0 pontos.\n",
        "\n",
        "# Observação: se a quantidade de gols marcados numa partida for maior que a de sofridos, o time venceu.\n",
        "# Caso seja igual, o time empatou e se for menor, o time perdeu.\n",
        "# Para calcular o aproveitamento devemos fazer a razão entre a pontuação do time pela pontuação máxima que ele poderia receber.\n",
        "\n",
        "# Para teste, utilize as seguintes listas de gols marcados e sofridos:\n",
        "gols_marcados = [2, 1, 3, 1, 0]\n",
        "gols_sofridos = [1, 2, 2, 1, 3]\n",
        "\n",
        "\n",
        "\n",
        "def calcula_pontos(marcados,sofridos: list) -> int:\n",
        "    pontuacao = 0\n",
        "\n",
        "    for i in range(len(marcados)):\n",
        "      if marcados[i] > sofridos[i]:\n",
        "        pontuacao += 3\n",
        "      elif marcados[i] == sofridos[i]:\n",
        "        pontuacao += 1\n",
        "    aprov = (pontuacao / (len(marcados) * 3)) * 100\n",
        "    return  (pontuacao,aprov)\n",
        "\n",
        "pontos , aprov = calcula_pontos(gols_marcados,gols_sofridos)\n",
        "print(f\"A pontuação do time foi de {pontos} e seu aproveitamento foi de {round(aprov,1)}%\")\n"
      ],
      "metadata": {
        "colab": {
          "base_uri": "https://localhost:8080/"
        },
        "id": "4fBrzNLRcsCZ",
        "outputId": "d34f832c-0901-4c6b-8449-b00cb4ff9b6f"
      },
      "execution_count": null,
      "outputs": [
        {
          "output_type": "stream",
          "name": "stdout",
          "text": [
            "A pontuação do time foi de 7 e seu aproveitamento foi de 46.7%\n"
          ]
        }
      ]
    },
    {
      "cell_type": "code",
      "source": [
        "# 9. Você recebeu o desafio de criar um código que calcula os gastos de uma viagem para um das quatro cidades partindo de Recife, sendo elas:\n",
        "# Salvador, Fortaleza, Natal e Aracaju.\n",
        "\n",
        "# O custo da diária do hotel é de 150 reais em todas elas e o consumo de gasolina na viagem de carro é de 14 km/l,\n",
        "# sendo que o valor da gasolina é de 5 reais o litro. O gastos com passeios e alimentação a se fazer em cada uma delas por dia seria de [200, 400, 250, 300],\n",
        "# respectivamente.\n",
        "\n",
        "# Sabendo que as distâncias entre Recife e cada uma das cidades é de aproximadamente [850, 800, 300, 550] km,\n",
        "# crie três funções nas quais: a 1ª função calcule os gastos com hotel (gasto_hotel),\n",
        "# a 2ª calcule os gastos com a gasolina (gasto_gasolina) e a 3ª os gastos com passeio e alimentação (gasto_passeio).\n",
        "\n",
        "# Para testar, simule uma viagem de 3 dias para Salvador partindo de Recife. Considere a viagem de ida e volta de carro.\n",
        "\n",
        "\"Com base nos gastos definidos, uma viagem de [dias] dias para [cidade] saindo de Recife custaria [gastos] reais\"\n",
        "cidades = [\"Salvador\", \"Fortaleza\", \"Natal\" , \"Aracaju\"]\n",
        "distancia = [850, 800, 300, 550]\n",
        "alimentacao = [200, 400, 250, 300]\n",
        "cidade_viagem = input(\"Digite a cidade destino: \")\n",
        "dias = int(input(\"Quantidade de dias de viagem: \"))\n",
        "diaria = 150\n",
        "c_gasolina = 14\n",
        "\n",
        "def gasto_hotel(cidades):\n",
        "  custo_diaria = 0\n",
        "  for indice,cidade in enumerate(cidades):\n",
        "    if cidade == cidade_viagem:\n",
        "      custo_diaria = diaria*dias\n",
        "  return custo_diaria\n",
        "\n",
        "def gasto_gasolina(cidades):\n",
        "  custo_gasolina = 0\n",
        "  for indice,cidade in enumerate(cidades):\n",
        "    if cidade == cidade_viagem:\n",
        "      custo_gasolina = distancia[indice] / c_gasolina * 5\n",
        "  return custo_gasolina\n",
        "\n",
        "def gasto_passeio(cidades):\n",
        "  custo_passeio = 0\n",
        "  for indice,cidade in enumerate(cidades):\n",
        "    if cidade == cidade_viagem:\n",
        "      custo_passeio = alimentacao[indice]*3\n",
        "  return custo_passeio\n",
        "\n",
        "custo_total = gasto_hotel(cidades) + gasto_gasolina(cidades) + gasto_passeio(cidades)\n",
        "\n",
        "print(f\"Com base nos gastos definidos, uma viagem de {dias} dias para {cidade_viagem} saindo de Recife custaria {round(custo_total,2)} reais\")\n",
        "\n",
        "\n"
      ],
      "metadata": {
        "id": "o7EMVczux0XY",
        "colab": {
          "base_uri": "https://localhost:8080/"
        },
        "outputId": "117f3d49-ebb5-440c-b2d7-05390d0a94a0"
      },
      "execution_count": 14,
      "outputs": [
        {
          "output_type": "stream",
          "name": "stdout",
          "text": [
            "Digite a cidade destino: Natal\n",
            "Quantidade de dias de viagem: 5\n",
            "Com base nos gastos definidos, uma viagem de 5 dias para Natal saindo de Recife custaria 1607.14 reais\n"
          ]
        }
      ]
    },
    {
      "cell_type": "code",
      "source": [
        "# 10. Você iniciou um estágio em uma empresa que trabalha com processamento de linguagem natural (NLP).\n",
        "# Sua líder requisitou que você criasse um trecho de código que recebe uma frase digitada pela pessoa usuária e\n",
        "# filtre apenas as palavras com tamanho maior ou igual a 5, exibindo-as em uma lista.\n",
        "# Essa demanda é voltada para a análise do padrão de comportamento de pessoas na escrita de palavras acima dessa quantidade de caracteres.\n",
        "\n",
        "# Dica: utilize as funções lambda e filter() para filtrar essas palavras.\n",
        "# Lembrando que a função embutida filter() recebe uma função (no nosso exemplo uma função lambda) e filtra um iterável de acordo com a função.\n",
        "# Para tratar a frase use replace() para trocar a ',' '.', '!' e '?' por espaço.\n",
        "\n",
        "# Use a frase \"Aprender Python aqui na Alura é muito bom\" para testar o código.\n",
        "\n",
        "frase = input(\"Digite uma frase: \")\n",
        "frase = frase.replace(',','').replace('.','').replace('!','').replace('?','').split()\n",
        "\n",
        "tamanho = list(filter(lambda x: len(x) >= 5,frase))\n",
        "print(tamanho)\n"
      ],
      "metadata": {
        "colab": {
          "base_uri": "https://localhost:8080/"
        },
        "id": "55Pm3bP2ROhF",
        "outputId": "3f66d25f-26e9-449b-8947-485311a8c0df"
      },
      "execution_count": 22,
      "outputs": [
        {
          "output_type": "stream",
          "name": "stdout",
          "text": [
            "Digite uma frase: uva e muito bom e gostoso \n",
            "['muito', 'gostoso']\n"
          ]
        }
      ]
    },
    {
      "cell_type": "code",
      "source": [],
      "metadata": {
        "id": "shHZJitghIII"
      },
      "execution_count": null,
      "outputs": []
    }
  ]
}